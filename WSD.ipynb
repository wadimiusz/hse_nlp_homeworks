{
  "nbformat": 4,
  "nbformat_minor": 0,
  "metadata": {
    "colab": {
      "name": "WSD.ipynb",
      "version": "0.3.2",
      "provenance": [],
      "include_colab_link": true
    },
    "kernelspec": {
      "name": "python3",
      "display_name": "Python 3"
    },
    "accelerator": "GPU"
  },
  "cells": [
    {
      "cell_type": "markdown",
      "metadata": {
        "id": "view-in-github",
        "colab_type": "text"
      },
      "source": [
        "<a href=\"https://colab.research.google.com/github/wadimiusz/hse_nlp_homeworks/blob/master/WSD.ipynb\" target=\"_parent\"><img src=\"https://colab.research.google.com/assets/colab-badge.svg\" alt=\"Open In Colab\"/></a>"
      ]
    },
    {
      "metadata": {
        "id": "89Og0IB4CDdk",
        "colab_type": "code",
        "colab": {}
      },
      "cell_type": "code",
      "source": [
        "import random\n",
        "import numpy as np\n",
        "from nltk.tokenize import word_tokenize, sent_tokenize\n",
        "from nltk.corpus import wordnet as wn\n",
        "from nltk.corpus import stopwords\n",
        "from nltk.stem.snowball import SnowballStemmer\n",
        "from sklearn.feature_extraction.text import TfidfVectorizer\n",
        "from sklearn.metrics.pairwise import cosine_similarity\n",
        "from sklearn.model_selection import train_test_split\n",
        "stemmer = SnowballStemmer(language='english')\n",
        "\n",
        "stop_words = list(stopwords.words('english'))"
      ],
      "execution_count": 0,
      "outputs": []
    },
    {
      "metadata": {
        "id": "4B2tlmpg73qi",
        "colab_type": "code",
        "colab": {}
      },
      "cell_type": "code",
      "source": [
        "with open('corpus_eng.txt', encoding='utf-8') as f:\n",
        "    corpus = f.read()"
      ],
      "execution_count": 0,
      "outputs": []
    },
    {
      "metadata": {
        "id": "3tc3peFa-Cqj",
        "colab_type": "code",
        "colab": {}
      },
      "cell_type": "code",
      "source": [
        "sentences = sent_tokenize(corpus)\n",
        "sentences = [word_tokenize(sentence.strip()) for sentence in sentences]"
      ],
      "execution_count": 0,
      "outputs": []
    },
    {
      "metadata": {
        "id": "-JV1amGS-x6V",
        "colab_type": "code",
        "outputId": "42aa904b-bbb8-4852-b2c2-c307cb7ea3b7",
        "colab": {
          "base_uri": "https://localhost:8080/",
          "height": 280
        }
      },
      "cell_type": "code",
      "source": [
        "sentences_with_break = [sentence for sentence in sentences if 'break' in sentence]\n",
        "print(\"Size of pool:\", len(sentences_with_break))\n",
        "samples, other_samples = train_test_split(sentences_with_break, train_size=10, shuffle=True) # just trust me on this one, we may use this later\n",
        "print(\"Samples:\")\n",
        "for sample in samples:\n",
        "  print(*sample)"
      ],
      "execution_count": 41,
      "outputs": [
        {
          "output_type": "stream",
          "text": [
            "Size of pool: 422\n",
            "Samples:\n",
            "“ This week will be a much-deserved break for all of us , ” Frederick said .\n",
            "“ Saving money and investing … More » Tokyo shares up by break on lower yen , US rate view AFP - 3 hours ago Tokyo stocks rallied Friday morning as the yen sank against the dollar after Federal Reserve chief Janet Yellen indicated the bank would hike US interest rates next month .\n",
            "Hong Kong shares also rose , as the Thanksgiving break in the United States helped slow a relentless surge in the U.S. dollar that has sucked capital out of most emerging markets .\n",
            "The process of smoking causes collagen to break down into simple sugars making the meat sweet and tender .\n",
            "The news will come as a relief to Chelsea fans , with Courtois having kept five clean sheets in a row prior to the international break to help Antonio Conte 's side climb into second place in the Premier League .\n",
            "The visitors , however , with 211 runs needed from 34 overs in the final session and with nine wickets in hand , changed their approach after the break and decided to attack .\n",
            "`` Even if the Trump administration decides to break the alliance , the current agreement is valid until 2018 so any changes will take time , '' Kim said .\n",
            "“ If the winds of change blow too hard and they refuse to bend in the wind , the tree may break at the trunk rather than lose a few leaves. ” Read More : Most of Canada ’ s Biggest Telecoms Want to End Net Neutrality Motherboard reached out to Rogers , Telus and Bell for comment on Blais ’ statements and has not yet received a response from the latter two .\n",
            "Press CTRL+C ( Windows ) , CMD+C ( Mac ) , or long-press the URL below on your mobile device to copy the code http : //reut.rs/2fFOwhg Share or Embed this Item EMBED < iframe src= '' https : //archive.org/embed/mbid-a992581d-38ee-47be-8b48-62373591228f '' width= '' 560 '' height= '' 384 '' frameborder= '' 0 '' webkitallowfullscreen= '' true '' mozallowfullscreen= '' true '' allowfullscreen > < /iframe > EMBED ( for wordpress.com hosted blogs ) [ archiveorg mbid-a992581d-38ee-47be-8b48-62373591228f width=560 height=384 frameborder=0 webkitallowfullscreen=true mozallowfullscreen=true ] ❮ Back Steal of the Night - Kevin Durant Kevin Durant gets the steal then goes on the break and throws down the alley-oop on the lob from Steph Curry .\n",
            "In extra innings and after a rain delay , the Chicago Cubs finally were able to break the drought that has seen them denied baseball ’ s big prize since when Theodore Roosevelt was President .\n"
          ],
          "name": "stdout"
        },
        {
          "output_type": "stream",
          "text": [
            "/usr/local/lib/python3.6/dist-packages/sklearn/model_selection/_split.py:2179: FutureWarning: From version 0.21, test_size will always complement train_size unless both are specified.\n",
            "  FutureWarning)\n"
          ],
          "name": "stderr"
        }
      ]
    },
    {
      "metadata": {
        "id": "XXE_N2kkSKDV",
        "colab_type": "text"
      },
      "cell_type": "markdown",
      "source": [
        "Let's try the usual Lesk first:"
      ]
    },
    {
      "metadata": {
        "id": "dP9bmUYRDkq5",
        "colab_type": "code",
        "colab": {}
      },
      "cell_type": "code",
      "source": [
        "def lesk(word, sentence):\n",
        "  best_sence = None\n",
        "  max_overlap = 0\n",
        "  for synset in wn.synsets(word):\n",
        "    definition = word_tokenize(synset.definition())\n",
        "    definition = [word_ for word_ in definition if not (word_ in stop_words + [word] or len(word_) < 3 or not word_.isalpha())]\n",
        "    sentence = [word_ for word_ in sentence if not (word_ in stop_words + [word] or len(word_) < 3 or not word_.isalpha())]\n",
        "    overlap = len(set(definition).intersection(set(sentence)))\n",
        "    if overlap > max_overlap:\n",
        "      max_overlap = overlap\n",
        "      best_sence = synset.definition()\n",
        "    \n",
        "  return best_sence"
      ],
      "execution_count": 0,
      "outputs": []
    },
    {
      "metadata": {
        "id": "NnMkdSE0J2va",
        "colab_type": "code",
        "outputId": "7f1ffca5-e25d-4e1b-a5c9-981e61616c05",
        "colab": {
          "base_uri": "https://localhost:8080/",
          "height": 1337
        }
      },
      "cell_type": "code",
      "source": [
        "print(\"Possible meanings of the word break:\")\n",
        "for num, synset in enumerate(wn.synsets('break')):\n",
        "  print(num+1, synset.definition())"
      ],
      "execution_count": 0,
      "outputs": [
        {
          "output_type": "stream",
          "text": [
            "Possible meanings of the word break:\n",
            "1 some abrupt occurrence that interrupts an ongoing activity\n",
            "2 an unexpected piece of good luck\n",
            "3 (geology) a crack in the earth's crust resulting from the displacement of one side with respect to the other\n",
            "4 a personal or social separation (as between opposing factions)\n",
            "5 a pause from doing something (as work)\n",
            "6 the act of breaking something\n",
            "7 a time interval during which there is a temporary cessation of something\n",
            "8 breaking of hard tissue such as bone\n",
            "9 the occurrence of breaking\n",
            "10 an abrupt change in the tone or register of the voice (as at puberty or due to emotion)\n",
            "11 the opening shot that scatters the balls in billiards or pool\n",
            "12 (tennis) a score consisting of winning a game when your opponent was serving\n",
            "13 an act of delaying or interrupting the continuity\n",
            "14 a sudden dash\n",
            "15 any frame in which a bowler fails to make a strike or spare\n",
            "16 an escape from jail\n",
            "17 terminate\n",
            "18 become separated into pieces or fragments\n",
            "19 render inoperable or ineffective\n",
            "20 ruin completely\n",
            "21 destroy the integrity of; usually by force; cause to separate into pieces or fragments\n",
            "22 act in disregard of laws, rules, contracts, or promises\n",
            "23 move away or escape suddenly\n",
            "24 scatter or part\n",
            "25 force out or release suddenly and often violently something pent up\n",
            "26 prevent completion\n",
            "27 enter someone's (virtual or real) property in an unauthorized manner, usually with the intent to steal or commit a violent act\n",
            "28 make submissive, obedient, or useful\n",
            "29 fail to agree with; be in violation of; as of rules or patterns\n",
            "30 surpass in excellence\n",
            "31 make known to the public information that was previously known only to a few people or that was meant to be kept a secret\n",
            "32 come into being\n",
            "33 stop operating or functioning\n",
            "34 interrupt a continued activity\n",
            "35 make a rupture in the ranks of the enemy or one's own by quitting or fleeing\n",
            "36 curl over and fall apart in surf or foam, of waves\n",
            "37 lessen in force or effect\n",
            "38 be broken in\n",
            "39 come to an end\n",
            "40 vary or interrupt a uniformity or continuity\n",
            "41 cause to give up a habit\n",
            "42 give up\n",
            "43 come forth or begin from a state of latency\n",
            "44 happen or take place\n",
            "45 cause the failure or ruin of\n",
            "46 invalidate by judicial action\n",
            "47 discontinue an association or relation; go different ways\n",
            "48 assign to a lower position; reduce in rank\n",
            "49 reduce to bankruptcy\n",
            "50 change directions suddenly\n",
            "51 emerge from the surface of a body of water\n",
            "52 break down, literally or metaphorically\n",
            "53 do a break dance\n",
            "54 exchange for smaller units of money\n",
            "55 destroy the completeness of a set of related items\n",
            "56 make the opening shot that scatters the balls\n",
            "57 separate from a clinch, in boxing\n",
            "58 go to pieces\n",
            "59 break a piece from a whole\n",
            "60 become punctured or penetrated\n",
            "61 pierce or penetrate\n",
            "62 be released or become known; of news\n",
            "63 cease an action temporarily\n",
            "64 interrupt the flow of current in\n",
            "65 undergo breaking\n",
            "66 find a flaw in\n",
            "67 find the solution or key to\n",
            "68 change suddenly from one tone quality or register to another\n",
            "69 happen\n",
            "70 become fractured; break or crack on the surface only\n",
            "71 crack; of the male voice in puberty\n",
            "72 fall sharply\n",
            "73 fracture a bone of\n",
            "74 diminish or discontinue abruptly\n",
            "75 weaken or destroy in spirit or body\n"
          ],
          "name": "stdout"
        }
      ]
    },
    {
      "metadata": {
        "id": "ZvzcAZWPKZXw",
        "colab_type": "code",
        "outputId": "1b8b8600-f9b9-4f00-e5d3-d77ab3f7227f",
        "colab": {
          "base_uri": "https://localhost:8080/",
          "height": 732
        }
      },
      "cell_type": "code",
      "source": [
        "for num, sample in enumerate(samples):\n",
        "  print(num+1)\n",
        "  print(\"Sentence:\", *sample)\n",
        "  print(\"Predicted meaning:\", lesk(\"break\", sample))\n",
        "  print(\"\")"
      ],
      "execution_count": 0,
      "outputs": [
        {
          "output_type": "stream",
          "text": [
            "1\n",
            "Sentence: I think it would break down the connections that we have with immigrant communities. ” Sanctuary cities that refuse to cooperate could lose billions of dollars in federal funding .\n",
            "Predicted meaning: None\n",
            "\n",
            "2\n",
            "Sentence: VIDEO : 10 Times Bella Hadid Rocked the Runway 5135677455001 As for what caused the break up ?\n",
            "Predicted meaning: None\n",
            "\n",
            "3\n",
            "Sentence: The visitors , however , with 211 runs needed from 34 overs in the final session and with nine wickets in hand , changed their approach after the break and decided to attack .\n",
            "Predicted meaning: None\n",
            "\n",
            "4\n",
            "Sentence: Photo : Silver Screen Collection , Getty Images Image 25 of 78 Feb. 10 , 1977 : After nearly seven years of marriage to Gus Trikonis , Goldie jumped ship two months later and married musician Bill Hudson , here taking a smoke break with new wife at the People 's Choice Awards in Hollywood .\n",
            "Predicted meaning: None\n",
            "\n",
            "5\n",
            "Sentence: The Cowboys , leading 28-3 at the break , quickly got another score when Jermaine Antoine intercepted Adam Morse and returned it 65 yards for a touchdown early in the third quarter .\n",
            "Predicted meaning: (tennis) a score consisting of winning a game when your opponent was serving\n",
            "\n",
            "6\n",
            "Sentence: After losing 1-0 to Iran in their last qualifier , Stielike was delighted his side had managed to break down the stingy Uzbek defence , which had conceded just two goals in their last seven matches .\n",
            "Predicted meaning: (geology) a crack in the earth's crust resulting from the displacement of one side with respect to the other\n",
            "\n",
            "7\n",
            "Sentence: Report : Facebook in talks with White House to introduce Free Basics in the U.S. Facebook ’ s new Messenger exec hire could lead to big break in India Facebook ditches Free Basics for paid Wi-Fi service in India Share By Susana Morris The numerous allegations that beloved comedian and television star Bill Cosby may in fact be a serial rapist has brought out all of the rape apologists out of the woodwork .\n",
            "Predicted meaning: None\n",
            "\n",
            "8\n",
            "Sentence: Sun , 20 Nov 2016 Indian spinners finally managed to break England 's resistance in Vizag Test while PV Sindhu clinched her first Super Series title in China .\n",
            "Predicted meaning: None\n",
            "\n",
            "9\n",
            "Sentence: [ 2 ] Learning how to cope with overthinking can help you let go of painful memories and break out of damaging thought patterns .\n",
            "Predicted meaning: fail to agree with; be in violation of; as of rules or patterns\n",
            "\n",
            "10\n",
            "Sentence: BEST OF HOW-TO GEEK We can break down trades in a simple way : Their idea is to make both teams better .\n",
            "Predicted meaning: any frame in which a bowler fails to make a strike or spare\n",
            "\n"
          ],
          "name": "stdout"
        }
      ]
    },
    {
      "metadata": {
        "id": "7J8PbWPMPH9i",
        "colab_type": "text"
      },
      "cell_type": "markdown",
      "source": [
        "The main problem here appears to be the lack of words in the definitions. Some sentences fail to have intersections with any definitions, and some only share irrelevant vocabulary. Also, some words don't match because of their difference in inflection. \n",
        "Why don't we try analysing contexts from wordnet instead of just definitions?"
      ]
    },
    {
      "metadata": {
        "id": "TJD4ILdxPWrR",
        "colab_type": "code",
        "colab": {}
      },
      "cell_type": "code",
      "source": [
        "def lesk(word, sentence):\n",
        "  best_sence = None\n",
        "  max_overlap = 0\n",
        "  for synset in wn.synsets(word):\n",
        "    definition = word_tokenize(synset.definition())\n",
        "    definition = [stemmer.stem(word_) for word_ in definition if not (word_ in stop_words + [word] or len(word_) < 3 or not word_.isalpha())]\n",
        "    \n",
        "    context = [stemmer.stem(word_) for example in synset.examples() for word_ in example]\n",
        "    \n",
        "    sentence = [stemmer.stem(word_) for word_ in sentence if not (word_ in stop_words + [word] or len(word_) < 3 or not word_.isalpha())]\n",
        "\n",
        "    overlap = len(set(definition).intersection(set(sentence + context)))\n",
        "    if overlap > max_overlap:\n",
        "      max_overlap = overlap\n",
        "      best_sence = synset.definition()\n",
        "    \n",
        "  return best_sence"
      ],
      "execution_count": 0,
      "outputs": []
    },
    {
      "metadata": {
        "id": "mrzyYjAQTLwq",
        "colab_type": "code",
        "outputId": "491d49e3-c5b2-4ae3-8f6f-ec2afd8e8af8",
        "colab": {
          "base_uri": "https://localhost:8080/",
          "height": 1148
        }
      },
      "cell_type": "code",
      "source": [
        "for num, sample in enumerate(samples):\n",
        "  print(num+1)\n",
        "  print(\"Sentence:\", *sample)\n",
        "  print(\"Predicted meaning:\", lesk(\"break\", sample))\n",
        "  print(\"\")"
      ],
      "execution_count": 28,
      "outputs": [
        {
          "output_type": "stream",
          "text": [
            "1\n",
            "Sentence: `` Unfortunately , this is the latest in a series of incidents that highlight the need for greater investment in our city facilities , '' Turner said , pointing to a September water line break at the city 's main administrative building at 611 Walker , among other episodes .\n",
            "some abrupt occurrence that interrupts an ongoing activity 1111\n",
            "a pause from doing something (as work) 1111\n",
            "render inoperable or ineffective 1111\n",
            "Predicted meaning: render inoperable or ineffective\n",
            "\n",
            "2\n",
            "Sentence: Liverpool have won seven of their last eight league games and go into the international break with growing belief they can win the club 's first English league title since 1990 .\n",
            "some abrupt occurrence that interrupts an ongoing activity 1111\n",
            "a time interval during which there is a temporary cessation of something 1111\n",
            "any frame in which a bowler fails to make a strike or spare 1111\n",
            "Predicted meaning: any frame in which a bowler fails to make a strike or spare\n",
            "\n",
            "3\n",
            "Sentence: Assuming the vice president would break any tie in favor of change , it would take 50 of those 52 to do away with the filibuster .\n",
            "some abrupt occurrence that interrupts an ongoing activity 1111\n",
            "an unexpected piece of good luck 1111\n",
            "breaking of hard tissue such as bone 1111\n",
            "Predicted meaning: breaking of hard tissue such as bone\n",
            "\n",
            "4\n",
            "Sentence: - Key figures around 0230 GMT - Tokyo - Nikkei 225 : UP 0.5 percent at 18,055.23 ( break ) Hong Kong - Hang Seng : UP 0.5 percent at 22,455.22 Shanghai - Composite : UP 0.8 percent at 3,218.46 Euro/dollar : UP at $ 1.0602 from $ 1.0592 Friday Dollar/yen : DOWN at 110.82 yen from 110.90 yen Pound/dollar : DOWN at $ 1.2350 from $ 1.2353 Oil - West Texas Intermediate : UP 36 cents at $ 46.05 per barrel Oil - Brent North Sea : UP 42 cents at $ 47.28 New York - Dow : DOWN 0.2 percent at 18,867.93 ( close ) London - FTSE 100 : DOWN 0.3 percent at 6,775.77 points ( close ) Chancellor warns Brexit uncertainty leaves UK facing 'eye-watering ' debt Sky News - 9 hours ago The Chancellor has warned that an unprecedented level of uncertainty surrounding Brexit has led to forecasts which predict slower growth for the UK and an `` eye-wateringly '' large debt .\n",
            "some abrupt occurrence that interrupts an ongoing activity 1111\n",
            "(geology) a crack in the earth's crust resulting from the displacement of one side with respect to the other 1111\n",
            "a personal or social separation (as between opposing factions) 1111\n",
            "the opening shot that scatters the balls in billiards or pool 1111\n",
            "Predicted meaning: the opening shot that scatters the balls in billiards or pool\n",
            "\n",
            "5\n",
            "Sentence: Visiting Harvard last week , Hall of Famer Kareem Abdul-Jabbar said the trip reminded him of the `` ping pong diplomacy '' of President Richard Nixon 's administration and hoped it would help break down barriers between the nations .\n",
            "some abrupt occurrence that interrupts an ongoing activity 1111\n",
            "Predicted meaning: some abrupt occurrence that interrupts an ongoing activity\n",
            "\n",
            "6\n",
            "Sentence: Follow Terry Savage on Twitter : www.twitter.com/TerryTalksMoney US Market Report | Wed Nov 23 , 2016 | 4:14pm IST 投行观点：Headwaters评级从买入下调至持有 -- Stifel * Dow up 0.08 pct , S & P down 0.11 pct , Nasdaq up 0.13 pct ( Updates to early afternoon ) MORE FROM REUTERS From Around the Web Promoted by Taboola Trending Stories BEIRUT ( AP ) — Syrian government forces regained control Saturday of areas they lost over the past two weeks to a rebel offensive on the edge of the northern city of Aleppo , ending a major attempt by insurgents to break the siege on eastern parts of the city , an activist group and pro-government media said .\n",
            "some abrupt occurrence that interrupts an ongoing activity 1111\n",
            "a pause from doing something (as work) 1111\n",
            "force out or release suddenly and often violently something pent up 1111\n",
            "Predicted meaning: force out or release suddenly and often violently something pent up\n",
            "\n",
            "7\n",
            "Sentence: The Scot , however , recovered quickly , breaking to open a 2-0 lead in the decider , only for his opponent , who relied on his heavy forehand and a sliced backhand , to break back and set up two break points at 5-5 .\n",
            "some abrupt occurrence that interrupts an ongoing activity 1111\n",
            "an unexpected piece of good luck 1111\n",
            "(geology) a crack in the earth's crust resulting from the displacement of one side with respect to the other 1111\n",
            "Predicted meaning: (geology) a crack in the earth's crust resulting from the displacement of one side with respect to the other\n",
            "\n",
            "8\n",
            "Sentence: Add pull quotes to break up a long article and tantalize the reader .\n",
            "some abrupt occurrence that interrupts an ongoing activity 1111\n",
            "Predicted meaning: some abrupt occurrence that interrupts an ongoing activity\n",
            "\n",
            "9\n",
            "Sentence: There was a moment Saturday at the funeral for U.S. Rep. Danny Davis ' 15-year-old grandson Javon Wilson , felled by a bullet as he tried to break up a fight over clothing in his family 's home , that evoked a gasp from many of the hundreds of people at the West Side church where his life was celebrated .\n",
            "some abrupt occurrence that interrupts an ongoing activity 1111\n",
            "Predicted meaning: some abrupt occurrence that interrupts an ongoing activity\n",
            "\n",
            "10\n",
            "Sentence: The five-times European champions have surged to the top of the Premier League with 26 points from 11 matches and return to action after the international break with a trip to 10th-placed Southampton on Saturday .\n",
            "some abrupt occurrence that interrupts an ongoing activity 1111\n",
            "force out or release suddenly and often violently something pent up 1111\n",
            "Predicted meaning: force out or release suddenly and often violently something pent up\n",
            "\n"
          ],
          "name": "stdout"
        }
      ]
    },
    {
      "metadata": {
        "id": "TCFRZP4yV422",
        "colab_type": "text"
      },
      "cell_type": "markdown",
      "source": [
        "Better but still meh.\n",
        "What if we use ngrams and tfidf and look for similar sentences to add them to definitions and contexts?"
      ]
    },
    {
      "metadata": {
        "id": "wATfhRWkXmS_",
        "colab_type": "code",
        "colab": {}
      },
      "cell_type": "code",
      "source": [
        "\n",
        "def preprocess(samples):\n",
        "  return [[stemmer.stem(word_) for word_ in sample if word_.lower() not in stop_words and len(word_) > 2 and word_.isalpha()] for sample in samples]\n",
        "\n",
        "other_samples_preprocessed = preprocess(other_samples)\n",
        "tfidf = TfidfVectorizer(analyzer=lambda x: x, ngram_range=(1, 3)).fit(other_samples_preprocessed)\n",
        "\n",
        "def get_similar(sentence, sentences, num=10):\n",
        "  sentence_ = tfidf.transform(preprocess([sentence]))\n",
        "  sentences_ = tfidf.transform(preprocess(sentences))\n",
        "  similarity = cosine_similarity(sentence_, sentences_)[0]\n",
        "  idx = similarity.argsort()[-num:][::-1]\n",
        "  return preprocess([sentences[idx_] for idx_ in idx])\n",
        "\n",
        "def get_score(sentence1, sentence2):\n",
        "  sentence1 = tfidf.transform(preprocess([sentence1]))\n",
        "  sentence2 = tfidf.transform(preprocess([sentence2]))\n",
        "  similarity = cosine_similarity(sentence1, sentence2)[0][0]\n",
        "  return similarity"
      ],
      "execution_count": 0,
      "outputs": []
    },
    {
      "metadata": {
        "id": "59X6yEbTlH8y",
        "colab_type": "code",
        "colab": {}
      },
      "cell_type": "code",
      "source": [
        "def lesk(word, sentence):\n",
        "  best_sence = None\n",
        "  max_score = 0\n",
        "  common_words = list()\n",
        "  for synset in wn.synsets(word):\n",
        "    context = word_tokenize(synset.definition())\n",
        "    context += sum([word_tokenize(example) for example in synset.examples()], [])\n",
        "    context += sum(get_similar(context, other_samples, 60), [])\n",
        "    context = preprocess([context])[0]\n",
        "    context = [word_ for word_ in context if word_ != word]\n",
        "    score = get_score(sentence, context)\n",
        "\n",
        "    if score > max_score:\n",
        "      best_sence = synset.definition()\n",
        "      max_score = score\n",
        "      common_words = list(set(sentence).intersection(set(context)))\n",
        "    \n",
        "  print(\"Common words:\", *common_words)\n",
        "  print(\"Score\", max_score)\n",
        "  return best_sence"
      ],
      "execution_count": 0,
      "outputs": []
    },
    {
      "metadata": {
        "id": "cveuJHaQnIvg",
        "colab_type": "code",
        "outputId": "337ff347-8200-4764-a3a1-0f95fde1f84b",
        "colab": {
          "base_uri": "https://localhost:8080/",
          "height": 1079
        }
      },
      "cell_type": "code",
      "source": [
        "for num, sample in enumerate(samples):\n",
        "  print(num+1)\n",
        "  print(\"Sentence:\", *sample)\n",
        "  print(\"Predicted meaning:\", lesk(\"break\", sample))\n",
        "  print(\"\")"
      ],
      "execution_count": 49,
      "outputs": [
        {
          "output_type": "stream",
          "text": [
            "1\n",
            "Sentence: “ This week will be a much-deserved break for all of us , ” Frederick said .\n",
            "Common words: week said\n",
            "Score 0.18210893497156472\n",
            "Predicted meaning: diminish or discontinue abruptly\n",
            "\n",
            "2\n",
            "Sentence: “ Saving money and investing … More » Tokyo shares up by break on lower yen , US rate view AFP - 3 hours ago Tokyo stocks rallied Friday morning as the yen sank against the dollar after Federal Reserve chief Janet Yellen indicated the bank would hike US interest rates next month .\n",
            "Common words: would lower rate bank yen money next dollar ago sank month\n",
            "Score 0.17267608349616478\n",
            "Predicted meaning: fall sharply\n",
            "\n",
            "3\n",
            "Sentence: Hong Kong shares also rose , as the Thanksgiving break in the United States helped slow a relentless surge in the U.S. dollar that has sucked capital out of most emerging markets .\n",
            "Common words: slow also rose dollar\n",
            "Score 0.15612591358578534\n",
            "Predicted meaning: reduce to bankruptcy\n",
            "\n",
            "4\n",
            "Sentence: The process of smoking causes collagen to break down into simple sugars making the meat sweet and tender .\n",
            "Common words: process\n",
            "Score 0.1552000990164132\n",
            "Predicted meaning: cause the failure or ruin of\n",
            "\n",
            "5\n",
            "Sentence: The news will come as a relief to Chelsea fans , with Courtois having kept five clean sheets in a row prior to the international break to help Antonio Conte 's side climb into second place in the Premier League .\n",
            "Common words: help place side come second news\n",
            "Score 0.13897574847460628\n",
            "Predicted meaning: (tennis) a score consisting of winning a game when your opponent was serving\n",
            "\n",
            "6\n",
            "Sentence: The visitors , however , with 211 runs needed from 34 overs in the final session and with nine wickets in hand , changed their approach after the break and decided to attack .\n",
            "Common words: session approach hand nine final attack\n",
            "Score 0.19338544448716913\n",
            "Predicted meaning: an abrupt change in the tone or register of the voice (as at puberty or due to emotion)\n",
            "\n",
            "7\n",
            "Sentence: `` Even if the Trump administration decides to break the alliance , the current agreement is valid until 2018 so any changes will take time , '' Kim said .\n",
            "Common words: time take current said\n",
            "Score 0.20235317984801715\n",
            "Predicted meaning: interrupt the flow of current in\n",
            "\n",
            "8\n",
            "Sentence: “ If the winds of change blow too hard and they refuse to bend in the wind , the tree may break at the trunk rather than lose a few leaves. ” Read More : Most of Canada ’ s Biggest Telecoms Want to End Net Neutrality Motherboard reached out to Rogers , Telus and Bell for comment on Blais ’ statements and has not yet received a response from the latter two .\n",
            "Common words: comment hard may two\n",
            "Score 0.13765716318328208\n",
            "Predicted meaning: an abrupt change in the tone or register of the voice (as at puberty or due to emotion)\n",
            "\n",
            "9\n",
            "Sentence: Press CTRL+C ( Windows ) , CMD+C ( Mac ) , or long-press the URL below on your mobile device to copy the code http : //reut.rs/2fFOwhg Share or Embed this Item EMBED < iframe src= '' https : //archive.org/embed/mbid-a992581d-38ee-47be-8b48-62373591228f '' width= '' 560 '' height= '' 384 '' frameborder= '' 0 '' webkitallowfullscreen= '' true '' mozallowfullscreen= '' true '' allowfullscreen > < /iframe > EMBED ( for wordpress.com hosted blogs ) [ archiveorg mbid-a992581d-38ee-47be-8b48-62373591228f width=560 height=384 frameborder=0 webkitallowfullscreen=true mozallowfullscreen=true ] ❮ Back Steal of the Night - Kevin Durant Kevin Durant gets the steal then goes on the break and throws down the alley-oop on the lob from Steph Curry .\n",
            "Common words: http allowfullscreen true https code archiveorg lob\n",
            "Score 0.1971441965289526\n",
            "Predicted meaning: destroy the completeness of a set of related items\n",
            "\n",
            "10\n",
            "Sentence: In extra innings and after a rain delay , the Chicago Cubs finally were able to break the drought that has seen them denied baseball ’ s big prize since when Theodore Roosevelt was President .\n",
            "Common words: seen rain big\n",
            "Score 0.10988939685200055\n",
            "Predicted meaning: an unexpected piece of good luck\n",
            "\n"
          ],
          "name": "stdout"
        }
      ]
    },
    {
      "metadata": {
        "id": "9WjGv1pMOad9",
        "colab_type": "text"
      },
      "cell_type": "markdown",
      "source": [
        "# Comments\n",
        "1. It seems that this meaning of the word \"break\" is what lesk's alrorighms has a hard time with. Break or having a break can be mentioned pretty much anywhere without any words from the dictionary article.\n",
        "2. This one is pretty impressive. Modified Lesk's algorithm managed to 1) successfully find other sentences where break means fall sharply, 2) identify their common topic, economics and finances, 3) realised that it is the case here. Well done.\n",
        "3. That meaning of the word \"break\" again. Still, Lesk's algorithm knows that the sentence is about finances, hence the interpretation.\n",
        "4. Phrasal verb. Those are bad for our algorithm. Also, just one word shared by the sentence and the definition with their similar sentences.\n",
        "5. Pretty much the only available meaning in the list that is related to sport. still, it's not about tennis.\n",
        "6. Maybe it's about \"change\"? Honestly I don't know.\n",
        "7. Probably the word \"interrupt\" created a confusion between this definition and political news.\n",
        "8. Now a typical text, so hard to analyse, I guess\n",
        "9. Well, this is pretty much a junk sample\n",
        "10. \"To break the drought\" it's an idiom and it's more about finishing something that had been continued for a long time. Still, the definition is kinda relevant: the mentioned fans _did_ have a good luck!"
      ]
    }
  ]
}